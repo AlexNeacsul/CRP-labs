{
  "cells": [
    {
      "cell_type": "markdown",
      "metadata": {
        "id": "MZmgS1JZsjyi"
      },
      "source": [
        "[![Open In Colab](https://colab.research.google.com/assets/colab-badge.svg)](https://colab.research.google.com/github/ACS-IC-labs/IC-labs/blob/main/labs/lab09/lab9.ipynb)"
      ]
    },
    {
      "cell_type": "markdown",
      "metadata": {
        "id": "r1lCsEg-De6w"
      },
      "source": [
        "# Laboratorul 09 - OpenSSL MACs, Hashes and AEAD"
      ]
    },
    {
      "cell_type": "markdown",
      "metadata": {
        "id": "kn-reZGpDoVm"
      },
      "source": [
        "Prezentarea PowerPoint pentru acest laborator o puteți găsi [aici]().\n"
      ]
    },
    {
      "cell_type": "markdown",
      "metadata": {
        "id": "zoulDviNE7Ny"
      },
      "source": [
        "Puteți rula celula de mai jos pentru a seta `cwd` (current working directory) în drive-ul vostru.\n",
        "\n",
        "**Notă:** Înainte de a rula o celulă în Colab precum cea de mai jos, mereu inspectați întreg codul înainte, să vă asigurați că nu sunt chestii malițioase în spate!"
      ]
    },
    {
      "cell_type": "code",
      "execution_count": null,
      "metadata": {
        "id": "ngLijc3XE0AN"
      },
      "outputs": [],
      "source": [
        "try:\n",
        "    from google.colab import drive\n",
        "    drive.mount('/content/gdrive')\n",
        "\n",
        "    # TODO: Set a path where to save the files, inside your Google Drive. Maybe\n",
        "    # you would like to mkdir beforehan\n",
        "    %cd /content/gdrive/MyDrive/cwd\n",
        "except:\n",
        "    print(\"Using local disk\")"
      ]
    },
    {
      "cell_type": "markdown",
      "metadata": {
        "id": "Bv8EXeE_DpOn"
      },
      "source": [
        "## Exercițiul 1\n",
        "\n",
        "În acest exercițiu vom folosi CLI pentru a calcula un HMAC, cu SHA-1 pentru algoritmul de hash.\n",
        "\n",
        "Aduceți-vă aminte de la curs că pentru ca un HMAC să fie sigur, trebuie să generăm o cheie aleatoare $k \\gets \\mathcal{K}$.\n",
        "\n",
        "Putem folosi octeți aleatori folosind ''openssl rand''. Modul în care se generează HMAC-uri îl puteți găsi în documentația pentru ''openssl dgst''.\n",
        "\n",
        "Pentru acest exercițiu, folosiți comenzi OpenSSL pentru îndeplinirea următoarelor task-uri:\n",
        "  - generați o cheie aleatoare de 16 octeți;\n",
        "  - folosiți cheia pentru a calcula un HMAC SHA-1 al mesajului: \"Laborator IC\";\n",
        "  - folosiți aceeași cheie pentru a calcula un HMAC SHA-1 al mesajului \"Laborator IC!\". Observați diferența dintre mesaje - un singur caracter (adăugarea \"!\") modifică complet codul HMAC.\n",
        "\n"
      ]
    },
    {
      "cell_type": "code",
      "execution_count": null,
      "metadata": {
        "id": "mMKHmOWWEiCr"
      },
      "outputs": [],
      "source": [
        "%%bash\n",
        "\n",
        "# TODO 1: Use OpenSSL to:\n",
        "# - generate a random key\n",
        "openssl rand -out key.bin 16\n",
        "# - compute HMAC SHA-1 for \"Laborator IC\"\n",
        "echo -n \"Laborator IC\" | openssl dgst -sha1 -mac HMAC -macopt key:key.bin\n",
        "# - compute HMAC SHA-1 for \"Laborator IC!\"\n",
        "echo -n \"Laborator IC!\" | openssl dgst -sha1 -mac HMAC -macopt key:key.bin\n"
      ]
    },
    {
      "cell_type": "markdown",
      "metadata": {
        "id": "rA2ajphlD1BI"
      },
      "source": [
        "## Exercițiul 2\n",
        "\n",
        "Înainte de a începe următorul exercițiu, descărcați [aici](https://ocw.cs.pub.ro/courses/_media/ic/laboratoare/aesgcm.zip).\n",
        "\n",
        "Arhiva conține codul sursă pentru Exercițiul 3, dar din păcate este criptat. Aveți noroc că am uitat să scoatem fișierul cu parola din arhivă.\n",
        "\n",
        "Folosiți comenzi ''openssl'' pentru a decripta fișierul cu codul sursă.\n",
        "\n",
        "> Fișierul este criptat folosind AES-256 în mod CBC."
      ]
    },
    {
      "cell_type": "code",
      "execution_count": null,
      "metadata": {
        "id": "0uI5juGCEif2"
      },
      "outputs": [],
      "source": [
        "!([ -f aesgcm.zip ] || [ -f aesgcm.c ] && echo \"Skeleton already exists\") \\\n",
        "    || (wget https://ocw.cs.pub.ro/courses/_media/ic/laboratoare/aesgcm.zip && unzip aesgcm.zip)"
      ]
    },
    {
      "cell_type": "code",
      "execution_count": null,
      "metadata": {
        "id": "mq3a0ixRFfBY"
      },
      "outputs": [],
      "source": [
        "%%bash\n",
        "# TODO 2: Decrypt the skeleton\n",
        "openssl enc -aes-256-cbc -d -in aesgcm.c.enc -out aesgcm.c -pass file:password.bin\n",
        "\n"
      ]
    },
    {
      "cell_type": "markdown",
      "metadata": {
        "id": "DTXvYlzTEK4i"
      },
      "source": [
        "## Exercițiul 3\n",
        "\n",
        "\n",
        "În acest exercițiu vom folosi OpenSSL ca să criptăm și să decriptăm cu AES-256-GCM. Din păcate, AES-GCM nu poate fi folosit prin comenzile din CLI de OpenSSL, așa că va trebui să îl implementăm noi.\n",
        "\n",
        "Deschideți fișierul pe care l-ați decriptat la exercițiul anterior și analizați codul. Sunt două funcții care trebuie implementate:  `aes_gcm_encrypt` și `aes_gcm_decrypt`. Am pus comentarii în cod care să vă îndrume în implementare.\n",
        "\n",
        "Funcția main inițializează o cheie dummy și un IV dummy; un mesaj lung este criptat și apoi decriptat. Mesajul criptat ar trebui să includă automat la finalul ei tag-ul de autentificare, iar decriptarea ar trebui să întoarcă o eroare dacă verificarea tag-ului eșuează.\n",
        "\n",
        "Dacă nu schimbați cheile și implementarea este corectă, textul criptat pe care îl obțineți ar trebui să fie același cu al nostru. În caz contrar, unele teste vor pica.\n",
        "\n",
        "Aveți mai jos inclus un exemplu de criptare cu RC2 (luat din paginile de manual ale OpenSSL). Criptarea AES-GCM este similară ca implementare - tag-ul de autentificare este automat adăugat când finalizăm contextul criptării.\n",
        "\n",
        "``` C\n",
        "int do_crypt(FILE *in, FILE *out, int do_encrypt) {\n",
        "    /* Allow enough space in output buffer for additional block */\n",
        "    inbuf[1024], outbuf[1024 + EVP_MAX_BLOCK_LENGTH];\n",
        "    int inlen, outlen;\n",
        "    /* Bogus key and IV: we'd normally set these from\n",
        "     * another source.\n",
        "     */\n",
        "    unsigned char key[] = \"0123456789\";\n",
        "    unsigned char iv[] = \"12345678\";\n",
        "    /* Don't set key or IV because we will modify the parameters */\n",
        "    EVP_CIPHER_CTX_init(&ctx);\n",
        "    EVP_CipherInit_ex(&ctx, EVP_rc2(), NULL, NULL, NULL, do_encrypt);\n",
        "    EVP_CIPHER_CTX_set_key_length(&ctx, 10);\n",
        "    /* We finished modifying parameters so now we can set key and IV */\n",
        "    EVP_CipherInit_ex(&ctx, NULL, NULL, key, iv, do_encrypt);\n",
        "\n",
        "    for(;;) {\n",
        "        inlen = fread(inbuf, 1, 1024, in);\n",
        "        if(inlen <= 0) break;\n",
        "        if(!EVP_CipherUpdate(&ctx, outbuf, &outlen, inbuf, inlen)) {\n",
        "            /* Error */\n",
        "            EVP_CIPHER_CTX_cleanup(&ctx);\n",
        "            return 0;\n",
        "        }\n",
        "        fwrite(outbuf, 1, outlen, out);\n",
        "    }\n",
        "    if(!EVP_CipherFinal_ex(&ctx, outbuf, &outlen)) {\n",
        "        /* Error */\n",
        "        EVP_CIPHER_CTX_cleanup(&ctx);\n",
        "        return 0;\n",
        "    }\n",
        "    fwrite(outbuf, 1, outlen, out);\n",
        "    EVP_CIPHER_CTX_cleanup(&ctx);\n",
        "    return 1;\n",
        "}\n",
        "```\n",
        "\n",
        "> S-ar putea să fie nevoie să schimbați LDFLAGS din Makefile:\n",
        "> `LDFLAGS=-lcrypto -ldl`\n",
        "\n",
        ">Vedeți pagina de criptare EVP din manualul open ssl [aici](https://www.openssl.org/docs/man1.1.1/man3/EVP_aes_256_gcm.html) pentru informații legate de cum se folosesc funcțiile EVP și un exemplu similar cu cel de mai sus."
      ]
    },
    {
      "cell_type": "markdown",
      "metadata": {
        "id": "hVcgwM4QFn2b"
      },
      "source": [
        "Compilare sursă și rulare:"
      ]
    },
    {
      "cell_type": "code",
      "execution_count": null,
      "metadata": {
        "id": "b7xOCaajFppu"
      },
      "outputs": [],
      "source": [
        "!make clean && make && ./aesgcm"
      ]
    }
  ],
  "metadata": {
    "colab": {
      "private_outputs": true,
      "provenance": []
    },
    "kernelspec": {
      "display_name": "Python 3",
      "name": "python3"
    },
    "language_info": {
      "codemirror_mode": {
        "name": "ipython",
        "version": 3
      },
      "file_extension": ".py",
      "mimetype": "text/x-python",
      "name": "python",
      "nbconvert_exporter": "python",
      "pygments_lexer": "ipython3",
      "version": "3.11.12"
    }
  },
  "nbformat": 4,
  "nbformat_minor": 0
}